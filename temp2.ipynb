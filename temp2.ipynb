{
 "cells": [
  {
   "cell_type": "code",
   "execution_count": 1,
   "metadata": {},
   "outputs": [
    {
     "name": "stderr",
     "output_type": "stream",
     "text": [
      "/home/ubuntu/anaconda3/envs/v2v/lib/python3.12/site-packages/tqdm/auto.py:21: TqdmWarning: IProgress not found. Please update jupyter and ipywidgets. See https://ipywidgets.readthedocs.io/en/stable/user_install.html\n",
      "  from .autonotebook import tqdm as notebook_tqdm\n"
     ]
    }
   ],
   "source": [
    "import torch\n",
    "import torchaudio\n",
    "from whisperx.vads import SileroCustom\n",
    "from whisperx.audio import N_SAMPLES, SAMPLE_RATE, load_audio, log_mel_spectrogram\n",
    "from transformers import AutoModelForSpeechSeq2Seq, AutoProcessor"
   ]
  },
  {
   "cell_type": "code",
   "execution_count": 2,
   "metadata": {},
   "outputs": [
    {
     "name": "stdout",
     "output_type": "stream",
     "text": [
      ">>Performing voice activity detection using Silero...\n"
     ]
    },
    {
     "name": "stderr",
     "output_type": "stream",
     "text": [
      "Using cache found in /home/ubuntu/.cache/torch/hub/snakers4_silero-vad_master\n"
     ]
    }
   ],
   "source": [
    "default_vad_options = {\n",
    "    \"chunk_size\": 30,  # needed by silero since binarization happens before merge_chunks\n",
    "    \"vad_onset\": 0.500,\n",
    "    \"vad_offset\": 0.363,\n",
    "    \"vad_onnx\": True,\n",
    "    \"silero_merge_cutoff\": 0.1\n",
    "}\n",
    "\n",
    "vad_model = SileroCustom(\n",
    "    **default_vad_options\n",
    ")"
   ]
  },
  {
   "cell_type": "code",
   "execution_count": 3,
   "metadata": {},
   "outputs": [],
   "source": [
    "def load_audio(audio_path, target_sr=16000):\n",
    "    audio, sr = torchaudio.load(audio_path)\n",
    "    if sr != target_sr:\n",
    "        audio = torchaudio.functional.resample(audio, sr, target_sr)\n",
    "        sr = target_sr\n",
    "    return audio, sr\n",
    "\n",
    "def get_vad_segments(waveform, sr):\n",
    "    vad_input = {'waveform': waveform.numpy(), 'sample_rate': sr}\n",
    "    vad_segments = vad_model(vad_input)\n",
    "\n",
    "    segments = []\n",
    "    for segment in vad_segments:\n",
    "        seg_start = int(segment.start * sr)\n",
    "        seg_end = int(segment.end * sr)\n",
    "        segments.append(waveform[seg_start:seg_end])\n",
    "    return segments"
   ]
  },
  {
   "cell_type": "code",
   "execution_count": 4,
   "metadata": {},
   "outputs": [],
   "source": [
    "vad_segments = []\n",
    "\n",
    "waveform, sr = load_audio('/home/ubuntu/v2v-voice-library/data/fisher/audios/006/fe_03_00600.wav')\n",
    "for i in range(waveform.shape[0]):\n",
    "    segments = get_vad_segments(waveform[i], sr)\n",
    "    vad_segments.extend(segments)\n"
   ]
  },
  {
   "cell_type": "code",
   "execution_count": 5,
   "metadata": {},
   "outputs": [],
   "source": [
    "torch_dtype = torch.bfloat16 if torch.cuda.is_available() else torch.float16\n",
    "\n",
    "model = AutoModelForSpeechSeq2Seq.from_pretrained(\"openai/whisper-large-v3-turbo\", torch_dtype=torch_dtype, device_map=\"auto\")\n",
    "processor = AutoProcessor.from_pretrained(\"openai/whisper-large-v3-turbo\")"
   ]
  },
  {
   "cell_type": "code",
   "execution_count": 6,
   "metadata": {},
   "outputs": [],
   "source": [
    "def preprocess_audio(audio_data):\n",
    "    \"\"\"Preprocess audio data for the model.\"\"\"\n",
    "    # The HF WhisperFeatureExtractor uses 80 mel bins by default\n",
    "    # Access it from the feature_extractor's config\n",
    "    \n",
    "    n_mels = 128  if 'v3' in model.name_or_path else 80 # Default value for Whisper models\n",
    "    if hasattr(processor, \"feature_extractor\") and hasattr(processor.feature_extractor, \"config\"):\n",
    "        n_mels = getattr(processor.feature_extractor.config, \"num_mel_bins\", 80)\n",
    "    \n",
    "    features = log_mel_spectrogram(\n",
    "        audio_data,\n",
    "        n_mels=n_mels,\n",
    "        padding=N_SAMPLES - audio_data.shape[0] if audio_data.shape[0] < N_SAMPLES else 0,\n",
    "    )\n",
    "    # Convert features to match model's dtype\n",
    "    return features.to(device=model.device, dtype=torch_dtype)"
   ]
  },
  {
   "cell_type": "code",
   "execution_count": 7,
   "metadata": {},
   "outputs": [],
   "source": [
    "generate_kwargs = {\n",
    "    \"max_new_tokens\": 100,\n",
    "    \"num_beams\": 5,\n",
    "    \"condition_on_prev_tokens\": False,\n",
    "    \"compression_ratio_threshold\": 1.35,  # zlib compression ratio threshold (in token space)\n",
    "    \"temperature\": 0.0,\n",
    "    \"logprob_threshold\": -1.0,\n",
    "    \"no_speech_threshold\": 0.6,\n",
    "    \"return_timestamps\": False,\n",
    "    \"return_dict_in_generate\": True,\n",
    "}"
   ]
  },
  {
   "cell_type": "code",
   "execution_count": 8,
   "metadata": {},
   "outputs": [],
   "source": [
    "input_features = []\n",
    "for segment in vad_segments:\n",
    "    input_features.append(preprocess_audio(segment))"
   ]
  },
  {
   "cell_type": "code",
   "execution_count": 9,
   "metadata": {},
   "outputs": [
    {
     "name": "stderr",
     "output_type": "stream",
     "text": [
      "Due to a bug fix in https://github.com/huggingface/transformers/pull/28687 transcription using a multilingual Whisper will default to language detection followed by transcription instead of translation to English.This might be a breaking change for your use case. If you want to instead always translate your audio to English, make sure to pass `language='en'`.\n",
      "Passing a tuple of `past_key_values` is deprecated and will be removed in Transformers v4.43.0. You should pass an instance of `EncoderDecoderCache` instead, e.g. `past_key_values=EncoderDecoderCache.from_legacy_cache(past_key_values)`.\n",
      "The attention mask is not set and cannot be inferred from input because pad token is same as eos token. As a consequence, you may observe unexpected behavior. Please pass your input's `attention_mask` to obtain reliable results.\n",
      "From v4.47 onwards, when a model cache is to be returned, `generate` will return a `Cache` instance instead by default (as opposed to the legacy tuple of tuples format). If you want to keep returning the legacy format, please set `return_legacy_cache=True`.\n"
     ]
    },
    {
     "name": "stdout",
     "output_type": "stream",
     "text": [
      "Time taken: 77.0274965763092 seconds\n"
     ]
    }
   ],
   "source": [
    "import time\n",
    "input_features = torch.stack(input_features)\n",
    "\n",
    "start_time = time.time()\n",
    "batched_responses = []\n",
    "for batch in torch.split(input_features, 16):\n",
    "    output = model.generate(batch, **generate_kwargs)\n",
    "    batched_responses.append(output)\n",
    "    torch.cuda.empty_cache()\n",
    "end_time = time.time()\n",
    "print(f\"Time taken: {end_time - start_time} seconds\")\n"
   ]
  },
  {
   "cell_type": "code",
   "execution_count": 10,
   "metadata": {},
   "outputs": [
    {
     "name": "stdout",
     "output_type": "stream",
     "text": [
      "<|startoftranscript|><|ko|><|transcribe|><|notimestamps|> MBC 뉴스 박진주입니다.<|endoftext|><|endoftext|><|endoftext|><|endoftext|><|endoftext|><|endoftext|><|endoftext|><|endoftext|><|endoftext|><|endoftext|><|endoftext|><|endoftext|><|endoftext|><|endoftext|><|endoftext|><|endoftext|><|endoftext|><|endoftext|><|endoftext|><|endoftext|><|endoftext|><|endoftext|><|endoftext|><|endoftext|><|endoftext|><|endoftext|><|endoftext|><|endoftext|><|endoftext|><|endoftext|><|endoftext|><|endoftext|><|endoftext|><|endoftext|><|endoftext|><|endoftext|><|endoftext|><|endoftext|><|endoftext|><|endoftext|><|endoftext|><|endoftext|><|endoftext|><|endoftext|><|endoftext|><|endoftext|><|endoftext|><|endoftext|><|endoftext|><|endoftext|><|endoftext|><|endoftext|><|endoftext|><|endoftext|><|endoftext|><|endoftext|><|endoftext|><|endoftext|><|endoftext|><|endoftext|><|endoftext|><|endoftext|><|endoftext|><|endoftext|><|endoftext|><|endoftext|><|endoftext|><|endoftext|><|endoftext|><|endoftext|><|endoftext|><|endoftext|><|endoftext|><|endoftext|><|endoftext|><|endoftext|><|endoftext|><|endoftext|><|endoftext|><|endoftext|><|endoftext|><|endoftext|><|endoftext|><|endoftext|><|endoftext|><|endoftext|><|endoftext|><|endoftext|><|endoftext|><|endoftext|><|endoftext|><|endoftext|>\n"
     ]
    }
   ],
   "source": [
    "text = output.sequences[0].tolist()\n",
    "text = processor.decode(text, skip_special_tokens=False)\n",
    "print(text)"
   ]
  },
  {
   "cell_type": "code",
   "execution_count": 28,
   "metadata": {},
   "outputs": [
    {
     "name": "stdout",
     "output_type": "stream",
     "text": [
      "torch.Size([53])\n"
     ]
    }
   ],
   "source": [
    "print(output.sequences[0].shape)"
   ]
  },
  {
   "cell_type": "code",
   "execution_count": null,
   "metadata": {},
   "outputs": [],
   "source": []
  }
 ],
 "metadata": {
  "kernelspec": {
   "display_name": "v2v",
   "language": "python",
   "name": "python3"
  },
  "language_info": {
   "codemirror_mode": {
    "name": "ipython",
    "version": 3
   },
   "file_extension": ".py",
   "mimetype": "text/x-python",
   "name": "python",
   "nbconvert_exporter": "python",
   "pygments_lexer": "ipython3",
   "version": "3.12.9"
  }
 },
 "nbformat": 4,
 "nbformat_minor": 2
}
